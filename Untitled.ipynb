{
 "cells": [
  {
   "cell_type": "code",
   "execution_count": 51,
   "metadata": {},
   "outputs": [],
   "source": [
    "import os\n",
    "import fnmatch\n",
    "import glob\n",
    "import json"
   ]
  },
  {
   "cell_type": "code",
   "execution_count": 35,
   "metadata": {},
   "outputs": [
    {
     "name": "stdout",
     "output_type": "stream",
     "text": [
      "{'name': '.', 'chileren': [{'name': 'dir_test'}, {'name': 'cifer10_resnet23_2'}, {'name': 'cifer10_resnet23'}, {'name': 'result1'}], 'monitorFiles': [{'name': 'test.nntxt', 'data': None}, {'name': 'test2.nntxt', 'data': None}]}\n"
     ]
    }
   ],
   "source": [
    "res = {}\n",
    "target = res\n",
    "\n",
    "rootdir = \"/home/akiohayakawa/workspace/my_nnabla_test/nnp/logdir/\"\n",
    "for root, dirs, files in os.walk(rootdir):\n",
    "    target[\"name\"] = os.path.relpath(root, rootdir)\n",
    "    target[\"chileren\"] = [{\"name\": name} for name in dirs]\n",
    "    target[\"monitorFiles\"] = [{\"name\": name, \"data\": None} for name in fnmatch.filter(files, \"*.series.txt\")]\n",
    "    target[\"monitorFiles\"] = [{\"name\": name, \"data\": None} for name in fnmatch.filter(files, \"*.nntxt\")]\n",
    "    break\n",
    " \n",
    "print(res)"
   ]
  },
  {
   "cell_type": "code",
   "execution_count": 47,
   "metadata": {},
   "outputs": [],
   "source": [
    "def recursive(path):\n",
    "    res = {}\n",
    "    \n",
    "    res[\"name\"] = os.path.relpath(path, rootdir)\n",
    "    res[\"children\"] = []\n",
    "    res[\"monitorFiles\"] = []\n",
    "    res[\"nntxtFiles\"] = []\n",
    "    \n",
    "    files = glob.glob(os.path.join(path, \"*\"))\n",
    "    for file in files:\n",
    "        if os.path.isdir(file):\n",
    "            res[\"children\"].append(recursive(file))\n",
    "        else:\n",
    "            filename = os.path.basename(file)\n",
    "            if fnmatch.fnmatch(file, \"*.nntxt\"):\n",
    "                res[\"nntxtFiles\"].append({\"name\": filename, \"data\": None })\n",
    "            elif fnmatch.fnmatch(file, \"*.series.txt\"):\n",
    "                res[\"monitorFiles\"].append({\"name\": filename, \"data\": None})\n",
    "       \n",
    "    return res"
   ]
  },
  {
   "cell_type": "code",
   "execution_count": 49,
   "metadata": {},
   "outputs": [],
   "source": [
    "tes = recursive(rootdir)"
   ]
  },
  {
   "cell_type": "code",
   "execution_count": 50,
   "metadata": {},
   "outputs": [
    {
     "data": {
      "text/plain": [
       "{'name': '.',\n",
       " 'children': [{'name': 'dir_test',\n",
       "   'children': [],\n",
       "   'monitorFiles': [],\n",
       "   'nntxtFiles': []},\n",
       "  {'name': 'cifer10_resnet23_2',\n",
       "   'children': [],\n",
       "   'monitorFiles': [{'name': 'Training-error.series.txt', 'data': None},\n",
       "    {'name': 'Test-error.series.txt', 'data': None},\n",
       "    {'name': 'Training-loss.series.txt', 'data': None}],\n",
       "   'nntxtFiles': [{'name': 'model.nntxt', 'data': None}]},\n",
       "  {'name': 'cifer10_resnet23',\n",
       "   'children': [],\n",
       "   'monitorFiles': [{'name': 'Training-error.series.txt', 'data': None},\n",
       "    {'name': 'Test-error.series.txt', 'data': None},\n",
       "    {'name': 'Training-loss.series.txt', 'data': None}],\n",
       "   'nntxtFiles': [{'name': 'model.nntxt', 'data': None}]},\n",
       "  {'name': 'result1',\n",
       "   'children': [],\n",
       "   'monitorFiles': [],\n",
       "   'nntxtFiles': [{'name': 'test.nntxt', 'data': None}]}],\n",
       " 'monitorFiles': [],\n",
       " 'nntxtFiles': [{'name': 'test.nntxt', 'data': None},\n",
       "  {'name': 'test2.nntxt', 'data': None}]}"
      ]
     },
     "execution_count": 50,
     "metadata": {},
     "output_type": "execute_result"
    }
   ],
   "source": [
    "tes"
   ]
  },
  {
   "cell_type": "code",
   "execution_count": 52,
   "metadata": {},
   "outputs": [
    {
     "data": {
      "text/plain": [
       "'{\"name\": \".\", \"children\": [{\"name\": \"dir_test\", \"children\": [], \"monitorFiles\": [], \"nntxtFiles\": []}, {\"name\": \"cifer10_resnet23_2\", \"children\": [], \"monitorFiles\": [{\"name\": \"Training-error.series.txt\", \"data\": null}, {\"name\": \"Test-error.series.txt\", \"data\": null}, {\"name\": \"Training-loss.series.txt\", \"data\": null}], \"nntxtFiles\": [{\"name\": \"model.nntxt\", \"data\": null}]}, {\"name\": \"cifer10_resnet23\", \"children\": [], \"monitorFiles\": [{\"name\": \"Training-error.series.txt\", \"data\": null}, {\"name\": \"Test-error.series.txt\", \"data\": null}, {\"name\": \"Training-loss.series.txt\", \"data\": null}], \"nntxtFiles\": [{\"name\": \"model.nntxt\", \"data\": null}]}, {\"name\": \"result1\", \"children\": [], \"monitorFiles\": [], \"nntxtFiles\": [{\"name\": \"test.nntxt\", \"data\": null}]}], \"monitorFiles\": [], \"nntxtFiles\": [{\"name\": \"test.nntxt\", \"data\": null}, {\"name\": \"test2.nntxt\", \"data\": null}]}'"
      ]
     },
     "execution_count": 52,
     "metadata": {},
     "output_type": "execute_result"
    }
   ],
   "source": [
    "json.dumps(tes)"
   ]
  },
  {
   "cell_type": "code",
   "execution_count": null,
   "metadata": {},
   "outputs": [],
   "source": []
  }
 ],
 "metadata": {
  "kernelspec": {
   "display_name": "Python 3",
   "language": "python",
   "name": "python3"
  },
  "language_info": {
   "codemirror_mode": {
    "name": "ipython",
    "version": 3
   },
   "file_extension": ".py",
   "mimetype": "text/x-python",
   "name": "python",
   "nbconvert_exporter": "python",
   "pygments_lexer": "ipython3",
   "version": "3.6.4"
  }
 },
 "nbformat": 4,
 "nbformat_minor": 2
}
